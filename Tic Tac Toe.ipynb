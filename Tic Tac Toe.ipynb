{
 "cells": [
  {
   "cell_type": "code",
   "execution_count": null,
   "id": "1822edf2",
   "metadata": {},
   "outputs": [],
   "source": [
    "board = [input(), input(), input()]\n",
    " \n",
    "def count( what ):\n",
    "    return sum( row.count( what ) for row in board )\n",
    " \n",
    "def win( who ):\n",
    "    return \\\n",
    "        (board[0][0] == who and board[0][1] == who and board[0][2] == who) or \\\n",
    "        (board[1][0] == who and board[1][1] == who and board[1][2] == who) or \\\n",
    "        (board[2][0] == who and board[2][1] == who and board[2][2] == who) or \\\n",
    "        (board[0][0] == who and board[1][0] == who and board[2][0] == who) or \\\n",
    "        (board[0][1] == who and board[1][1] == who and board[2][1] == who) or \\\n",
    "        (board[0][2] == who and board[1][2] == who and board[2][2] == who) or \\\n",
    "        (board[0][0] == who and board[1][1] == who and board[2][2] == who) or \\\n",
    "        (board[2][0] == who and board[1][1] == who and board[0][2] == who)\n",
    " \n",
    "o, x, wx, wo = count( \"O\" ), count( \"X\" ), win( \"X\" ), win( \"O\" )\n",
    "if o > x or x > o + 1 or (wx and wo) or (wx and x == o) or (wo and x == o + 1):\n",
    "    print( \"Wait, what?\" )\n",
    "elif wx:\n",
    "    print( \"X won.\" )\n",
    "elif wo:\n",
    "    print( \"O won.\" )\n",
    "elif o + x == 9:\n",
    "    print( \"It's a draw.\" )\n",
    "else:\n",
    "    print( f\"{'X' if o == x else 'O'}'s turn.\" )"
   ]
  }
 ],
 "metadata": {
  "kernelspec": {
   "display_name": "Python 3",
   "language": "python",
   "name": "python3"
  },
  "language_info": {
   "codemirror_mode": {
    "name": "ipython",
    "version": 3
   },
   "file_extension": ".py",
   "mimetype": "text/x-python",
   "name": "python",
   "nbconvert_exporter": "python",
   "pygments_lexer": "ipython3",
   "version": "3.8.8"
  }
 },
 "nbformat": 4,
 "nbformat_minor": 5
}
